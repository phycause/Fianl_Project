{
 "cells": [
  {
   "cell_type": "code",
   "execution_count": 48,
   "metadata": {},
   "outputs": [],
   "source": [
    "import sqlite3\n",
    "import numpy as np\n",
    "\n",
    "conn = sqlite3.connect('wjazzd.db')\n",
    "c = conn.cursor()\n",
    "# info = c.execute('SELECT title, performer FROM solo_info where melid = 1').fetchall()\n",
    "midi_array = []\n",
    "for song_id in range(1, 457):\n",
    "    melody_db = c.execute('SELECT eventid, onset, duration, pitch FROM melody where melid =' + str(song_id)).fetchall()\n",
    "    phrase_db = c.execute('SELECT * FROM sections where type = \"PHRASE\" and melid = ' + str(song_id)).fetchall()\n",
    "    phrase_db = np.array(phrase_db)\n",
    "    phrase_end_ids = phrase_db[:, 3]\n",
    "    for note in melody_db:\n",
    "        note_id = str(int(note[0] - melody_db[0][0])) #因原本格式是字串，所以都用字串處理\n",
    "        pitch = int(note[3])\n",
    "        duration = \"%.2f\" % note[2]\n",
    "        note_txt = str(pitch) + '_' + str(duration)\n",
    "        midi_array.append(note_txt)\n",
    "        if note_id in phrase_end_ids:\n",
    "            midi_array.append('0_0')\n",
    "   "
   ]
  },
  {
   "cell_type": "code",
   "execution_count": 50,
   "metadata": {},
   "outputs": [],
   "source": [
    "txt_path = 'data/melodygen.train.txt'\n",
    "with open(txt_path, 'w') as text_file:\n",
    "    for idx in range(0, len(midi_array)):\n",
    "        if idx != len(midi_array)-1:\n",
    "            text_file.write(str(midi_array[idx]) + ' ')\n",
    "        else:\n",
    "            text_file.write(str(midi_array[idx]))"
   ]
  }
 ],
 "metadata": {
  "kernelspec": {
   "display_name": "Python 3",
   "language": "python",
   "name": "python3"
  },
  "language_info": {
   "codemirror_mode": {
    "name": "ipython",
    "version": 3
   },
   "file_extension": ".py",
   "mimetype": "text/x-python",
   "name": "python",
   "nbconvert_exporter": "python",
   "pygments_lexer": "ipython3",
   "version": "3.6.3"
  }
 },
 "nbformat": 4,
 "nbformat_minor": 2
}
